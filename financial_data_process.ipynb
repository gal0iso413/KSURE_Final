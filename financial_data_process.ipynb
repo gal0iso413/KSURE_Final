{
  "cells": [
    {
      "cell_type": "markdown",
      "metadata": {},
      "source": [
        "# KED 재무 가공 노트북 (간단 비율 생성)\n",
        "\n",
        "입력: `dataset/KED재무DATA.csv`\n",
        "출력: `dataset/KED가공재무DATA.csv`\n",
        "\n",
        "생성 지표 (4개, 연간 재무제표 기준 단순 계산):\n",
        "- ROE = 당기순이익 / 자기자본\n",
        "- 영업이익률 = 영업이익 / 매출액\n",
        "- 부채비율 = 부채 / 자기자본\n",
        "- 총자산회전율 = 매출액 / 자산\n",
        "\n",
        "주의: 분모 0 또는 결측 시 결과는 NaN 처리합니다. 출력에는 식별자(사업자등록번호, 기준일자) + 위 4개 비율만 포함되며, 원본 수치 컬럼은 제외합니다.\n"
      ]
    },
    {
      "cell_type": "code",
      "execution_count": 4,
      "metadata": {},
      "outputs": [
        {
          "name": "stdout",
          "output_type": "stream",
          "text": [
            "✅ Saved: dataset\\KED가공재무DATA.csv (723498 rows, 6 cols)\n"
          ]
        }
      ],
      "source": [
        "import pandas as pd\n",
        "import numpy as np\n",
        "from pathlib import Path\n",
        "\n",
        "INPUT_PATH = Path('dataset/KED재무DATA.csv')\n",
        "OUTPUT_PATH = Path('dataset/KED가공재무DATA.csv')\n",
        "\n",
        "# 사용자 환경에 따라 열 이름이 다를 수 있습니다. 아래 기본 매핑을 확인/수정하세요.\n",
        "# 예시 컬럼명 가정: 기준일자, 사업자등록번호, 매출액, 영업이익, 당기순이익, 자산, 자기자본, 부채\n",
        "COLS = {\n",
        "    'firm_id': '사업자등록번호',\n",
        "    'date': '기준일자',\n",
        "    'revenue': '매출액',\n",
        "    'operating_income': '영업이익',\n",
        "    'net_income': '당기순이익',\n",
        "    'assets': '자산',\n",
        "    'equity': '자기자본',\n",
        "    'liabilities': '부채',\n",
        "}\n",
        "\n",
        "assert INPUT_PATH.exists(), f\"입력 파일이 존재하지 않습니다: {INPUT_PATH}\"\n",
        "\n",
        "df = pd.read_csv(INPUT_PATH)\n",
        "\n",
        "# 필수 컬럼 확인\n",
        "for k, col in COLS.items():\n",
        "    if col not in df.columns:\n",
        "        raise ValueError(f\"필수 컬럼 누락: {col} (키: {k})\")\n",
        "\n",
        "# 숫자형 변환\n",
        "for key in ['revenue','operating_income','net_income','assets','equity','liabilities']:\n",
        "    col = COLS[key]\n",
        "    df[col] = pd.to_numeric(df[col], errors='coerce')\n",
        "\n",
        "# 안전한 나눗셈\n",
        "def safe_div(n, d):\n",
        "    return np.where((pd.notna(n)) & (pd.notna(d)) & (d != 0), n / d, np.nan)\n",
        "\n",
        "# 단순 비율 계산 (연간 보고 기준)\n",
        "res = df.copy()\n",
        "res['ROE'] = safe_div(res[COLS['net_income']], res[COLS['equity']])\n",
        "res['영업이익률'] = safe_div(res[COLS['operating_income']], res[COLS['revenue']])\n",
        "res['부채비율'] = safe_div(res[COLS['liabilities']], res[COLS['equity']])\n",
        "res['총자산회전율'] = safe_div(res[COLS['revenue']], res[COLS['assets']])\n",
        "\n",
        "# 출력 컬럼: 기준일자, 사업자등록번호 + 4개 비율\n",
        "keep_cols = [COLS['firm_id'], COLS['date'], 'ROE','영업이익률','부채비율','총자산회전율']\n",
        "res = res[keep_cols]\n",
        "\n",
        "# 저장\n",
        "OUTPUT_PATH.parent.mkdir(parents=True, exist_ok=True)\n",
        "res.to_csv(OUTPUT_PATH, index=False, encoding='utf-8-sig')\n",
        "print(f\"✅ Saved: {OUTPUT_PATH} ({len(res)} rows, {len(keep_cols)} cols)\")\n"
      ]
    },
    {
      "cell_type": "code",
      "execution_count": null,
      "metadata": {},
      "outputs": [],
      "source": []
    }
  ],
  "metadata": {
    "kernelspec": {
      "display_name": "wq",
      "language": "python",
      "name": "python3"
    },
    "language_info": {
      "codemirror_mode": {
        "name": "ipython",
        "version": 3
      },
      "file_extension": ".py",
      "mimetype": "text/x-python",
      "name": "python",
      "nbconvert_exporter": "python",
      "pygments_lexer": "ipython3",
      "version": "3.11.11"
    }
  },
  "nbformat": 4,
  "nbformat_minor": 2
}
